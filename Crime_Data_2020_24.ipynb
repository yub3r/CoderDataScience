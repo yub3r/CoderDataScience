{
  "cells": [
    {
      "cell_type": "markdown",
      "metadata": {
        "id": "view-in-github",
        "colab_type": "text"
      },
      "source": [
        "<a href=\"https://colab.research.google.com/github/yub3r/CoderDataScience/blob/main/Crime_Data_2020_24.ipynb\" target=\"_parent\"><img src=\"https://colab.research.google.com/assets/colab-badge.svg\" alt=\"Open In Colab\"/></a>"
      ]
    },
    {
      "cell_type": "markdown",
      "metadata": {
        "id": "a_NxNlg6lXrs"
      },
      "source": [
        "Pautas para elegir un Dataset para fundamento de ciencia de datos:\n",
        "1. Cantidad de columnas: Más de 15 columnas.\n",
        "Es recomendable elegir un dataset con un número considerable de variables\n",
        "(columnas) para contar con una variedad de características sobre las que se pueda\n",
        "realizar un análisis más completo.\n",
        "\n",
        "\n",
        "2. Cantidad de filas o registros: Aproximadamente 1000 (si es más, mejor).\n",
        "Un dataset con al menos 1000 registros ofrece una base suficiente para realizar\n",
        "análisis significativos y aplicar técnicas estadísticas básicas sin que el procesamiento sea demasiado pesado para quienes están comenzando.\n",
        "\n",
        "Fuente Orginal\n",
        "https://catalog.data.gov/dataset/crime-data-from-2020-to-present"
      ]
    },
    {
      "cell_type": "code",
      "execution_count": 2,
      "metadata": {
        "id": "aaC-NM5htE4V"
      },
      "outputs": [],
      "source": [
        "import pandas as pd\n",
        "import numpy as np"
      ]
    },
    {
      "cell_type": "code",
      "execution_count": 3,
      "metadata": {
        "id": "BUb6Qbenktyl"
      },
      "outputs": [],
      "source": [
        "# Importamos el csv desde github\n",
        "#csv_url = \"https://github.com/yub3r/CoderDataScience/blob/main/Entrega01/Crime_Data_from_2020-5K.csv\"\n",
        "csv_url = \"https://raw.githubusercontent.com/yub3r/CoderDataScience/refs/heads/main/Crime_Data_from_2020_10K2.csv\"\n",
        "\n",
        "df_csv = pd.read_csv(csv_url, nrows=20)\n"
      ]
    },
    {
      "cell_type": "code",
      "source": [
        "# Aquí se usa el argumento 'on_bad_lines' para saltar las líneas con errores.\n",
        "#df_csv = pd.read_csv(csv_url, on_bad_lines='skip')\n",
        "\n",
        "print(\"\\nDataframe cargado desde CSV y Github/raw:\")\n",
        "print(df_csv.shape)\n",
        "print(df_csv)\n"
      ],
      "metadata": {
        "colab": {
          "base_uri": "https://localhost:8080/"
        },
        "id": "DPJyq8tXUTka",
        "outputId": "a6048a0b-0d4a-48c3-a218-c876d4bafdda"
      },
      "execution_count": null,
      "outputs": [
        {
          "output_type": "stream",
          "name": "stdout",
          "text": [
            "\n",
            "Dataframe cargado desde CSV y Github/raw:\n",
            "(20, 28)\n",
            "        DR_NO               Date Rptd                DATE OCC  TIME OCC  AREA  \\\n",
            "0   211507896  04/11/2021 12:00:00 AM  11/07/2020 12:00:00 AM       845    15   \n",
            "1   201516622  10/21/2020 12:00:00 AM  10/18/2020 12:00:00 AM      1845    15   \n",
            "2   240913563  12/10/2024 12:00:00 AM  10/30/2020 12:00:00 AM      1240     9   \n",
            "3   210704711  12/24/2020 12:00:00 AM  12/24/2020 12:00:00 AM      1310     7   \n",
            "4   201418201  10/03/2020 12:00:00 AM  09/29/2020 12:00:00 AM      1830    14   \n",
            "5   240412063  12/11/2024 12:00:00 AM  11/11/2020 12:00:00 AM      1210     4   \n",
            "6   240317069  12/16/2024 12:00:00 AM  04/16/2020 12:00:00 AM      1350     3   \n",
            "7   201115217  10/29/2020 12:00:00 AM  07/07/2020 12:00:00 AM      1400    11   \n",
            "8   241708596  04/20/2024 12:00:00 AM  03/02/2020 12:00:00 AM      1200    17   \n",
            "9   242113813  12/18/2024 12:00:00 AM  09/01/2020 12:00:00 AM       900    21   \n",
            "10  240605846  02/06/2024 12:00:00 AM  06/20/2020 12:00:00 AM         1     6   \n",
            "11  242014110  12/18/2024 12:00:00 AM  11/17/2020 12:00:00 AM      1320    20   \n",
            "12  202113531  09/06/2020 12:00:00 AM  09/05/2020 12:00:00 AM      1500    21   \n",
            "13  201710725  07/03/2020 12:00:00 AM  07/02/2020 12:00:00 AM       500    17   \n",
            "14  201406733  02/16/2020 12:00:00 AM  02/13/2020 12:00:00 AM      2300    14   \n",
            "15  201405970  02/01/2020 12:00:00 AM  02/01/2020 12:00:00 AM      1658    14   \n",
            "16  201820230  11/08/2020 12:00:00 AM  11/08/2020 12:00:00 AM       730    18   \n",
            "17  201707577  03/20/2020 12:00:00 AM  03/20/2020 12:00:00 AM      1320    17   \n",
            "18  201514848  09/04/2020 12:00:00 AM  08/17/2020 12:00:00 AM       400    15   \n",
            "19  201405023  01/19/2020 12:00:00 AM  01/19/2020 12:00:00 AM      1850    14   \n",
            "\n",
            "      AREA NAME  Rpt Dist No  Part 1-2  Crm Cd  \\\n",
            "0   N Hollywood         1502         2     354   \n",
            "1   N Hollywood         1521         1     230   \n",
            "2      Van Nuys          933         2     354   \n",
            "3      Wilshire          782         1     331   \n",
            "4       Pacific         1454         1     420   \n",
            "5    Hollenbeck          429         2     354   \n",
            "6     Southwest          396         2     354   \n",
            "7     Northeast         1133         2     812   \n",
            "8    Devonshire         1729         2     354   \n",
            "9       Topanga         2196         2     354   \n",
            "10    Hollywood          657         2     812   \n",
            "11      Olympic         2023         2     354   \n",
            "12      Topanga         2149         1     510   \n",
            "13   Devonshire         1762         1     310   \n",
            "14      Pacific         1406         1     330   \n",
            "15      Pacific         1494         1     440   \n",
            "16    Southeast         1844         2     626   \n",
            "17   Devonshire         1752         2     624   \n",
            "18  N Hollywood         1549         1     310   \n",
            "19      Pacific         1435         1     310   \n",
            "\n",
            "                                          Crm Cd Desc  ... Status  \\\n",
            "0                                   THEFT OF IDENTITY  ...     IC   \n",
            "1      ASSAULT WITH DEADLY WEAPON, AGGRAVATED ASSAULT  ...     IC   \n",
            "2                                   THEFT OF IDENTITY  ...     IC   \n",
            "3   THEFT FROM MOTOR VEHICLE - GRAND ($950.01 AND ...  ...     IC   \n",
            "4     THEFT FROM MOTOR VEHICLE - PETTY ($950 & UNDER)  ...     IC   \n",
            "5                                   THEFT OF IDENTITY  ...     IC   \n",
            "6                                   THEFT OF IDENTITY  ...     IC   \n",
            "7   CRM AGNST CHLD (13 OR UNDER) (14-15 & SUSP 10 ...  ...     AO   \n",
            "8                                   THEFT OF IDENTITY  ...     IC   \n",
            "9                                   THEFT OF IDENTITY  ...     IC   \n",
            "10  CRM AGNST CHLD (13 OR UNDER) (14-15 & SUSP 10 ...  ...     AA   \n",
            "11                                  THEFT OF IDENTITY  ...     IC   \n",
            "12                                   VEHICLE - STOLEN  ...     AA   \n",
            "13                                           BURGLARY  ...     IC   \n",
            "14                              BURGLARY FROM VEHICLE  ...     IC   \n",
            "15                 THEFT PLAIN - PETTY ($950 & UNDER)  ...     AO   \n",
            "16                  INTIMATE PARTNER - SIMPLE ASSAULT  ...     IC   \n",
            "17                           BATTERY - SIMPLE ASSAULT  ...     IC   \n",
            "18                                           BURGLARY  ...     AA   \n",
            "19                                           BURGLARY  ...     IC   \n",
            "\n",
            "     Status Desc Crm Cd 1 Crm Cd 2  Crm Cd 3 Crm Cd 4  \\\n",
            "0    Invest Cont      354      NaN       NaN      NaN   \n",
            "1    Invest Cont      230      NaN       NaN      NaN   \n",
            "2    Invest Cont      354      NaN       NaN      NaN   \n",
            "3    Invest Cont      331      NaN       NaN      NaN   \n",
            "4    Invest Cont      420      NaN       NaN      NaN   \n",
            "5    Invest Cont      354      NaN       NaN      NaN   \n",
            "6    Invest Cont      354      NaN       NaN      NaN   \n",
            "7    Adult Other      812    860.0       NaN      NaN   \n",
            "8    Invest Cont      354      NaN       NaN      NaN   \n",
            "9    Invest Cont      354      NaN       NaN      NaN   \n",
            "10  Adult Arrest      812    860.0       NaN      NaN   \n",
            "11   Invest Cont      354      NaN       NaN      NaN   \n",
            "12  Adult Arrest      510      NaN       NaN      NaN   \n",
            "13   Invest Cont      310      NaN       NaN      NaN   \n",
            "14   Invest Cont      330      NaN       NaN      NaN   \n",
            "15   Adult Other      440      NaN       NaN      NaN   \n",
            "16   Invest Cont      626      NaN       NaN      NaN   \n",
            "17   Invest Cont      624      NaN       NaN      NaN   \n",
            "18  Adult Arrest      310      NaN       NaN      NaN   \n",
            "19   Invest Cont      310      NaN       NaN      NaN   \n",
            "\n",
            "                                    LOCATION                     Cross Street  \\\n",
            "0    7800    BEEMAN                       AV                              NaN   \n",
            "1            ATOLL                        AV                         N  GAULT   \n",
            "2   14600    SYLVAN                       ST                              NaN   \n",
            "3    6000    COMEY                        AV                              NaN   \n",
            "4                    4700    LA VILLA MARINA                              NaN   \n",
            "5    5300    CRONUS                       ST                              NaN   \n",
            "6     900 W  40TH                         PL                              NaN   \n",
            "7    3000    ACRESITE                     ST                              NaN   \n",
            "8   17700    SIMONDS                      ST                              NaN   \n",
            "9   20900    MARMORA                      ST                              NaN   \n",
            "10   1000 N  RIDGEWOOD                    PL                              NaN   \n",
            "11    400 S  ARDMORE                      AV                              NaN   \n",
            "12  19700    VANOWEN                      ST                              NaN   \n",
            "13   9500    COZYCROFT                    AV                              NaN   \n",
            "14   3300    MOTOR                        AV                              NaN   \n",
            "15    300    WORLD                        WY                              NaN   \n",
            "16           108TH                        ST  AVALON                       AV   \n",
            "17  20900    DEVONSHIRE                   ST                              NaN   \n",
            "18  11100    CUMPSTON                     ST                              NaN   \n",
            "19   3500    PURDUE                       AV                              NaN   \n",
            "\n",
            "        LAT       LON  \n",
            "0   34.2124 -118.4092  \n",
            "1   34.1993 -118.4203  \n",
            "2   34.1847 -118.4509  \n",
            "3   34.0339 -118.3747  \n",
            "4   33.9813 -118.4350  \n",
            "5   34.0830 -118.1678  \n",
            "6   34.0100 -118.2900  \n",
            "7   34.1107 -118.2589  \n",
            "8   34.2763 -118.5210  \n",
            "9   34.1493 -118.5886  \n",
            "10  34.0878 -118.3146  \n",
            "11  34.0672 -118.3016  \n",
            "12  34.1938 -118.5631  \n",
            "13  34.2427 -118.5820  \n",
            "14  34.0240 -118.4090  \n",
            "15  33.9440 -118.4073  \n",
            "16  33.9383 -118.2652  \n",
            "17  34.2572 -118.5885  \n",
            "18  34.1700 -118.3722  \n",
            "19  34.0158 -118.4258  \n",
            "\n",
            "[20 rows x 28 columns]\n"
          ]
        }
      ]
    },
    {
      "cell_type": "code",
      "source": [],
      "metadata": {
        "id": "h6uptyWRg2Uj"
      },
      "execution_count": null,
      "outputs": []
    }
  ],
  "metadata": {
    "colab": {
      "provenance": [],
      "include_colab_link": true
    },
    "kernelspec": {
      "display_name": "Python 3",
      "name": "python3"
    },
    "language_info": {
      "name": "python"
    }
  },
  "nbformat": 4,
  "nbformat_minor": 0
}