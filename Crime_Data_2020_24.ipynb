{
  "cells": [
    {
      "cell_type": "markdown",
      "metadata": {
        "id": "view-in-github",
        "colab_type": "text"
      },
      "source": [
        "<a href=\"https://colab.research.google.com/github/yub3r/CoderDataScience/blob/main/Crime_Data_2020_24.ipynb\" target=\"_parent\"><img src=\"https://colab.research.google.com/assets/colab-badge.svg\" alt=\"Open In Colab\"/></a>"
      ]
    },
    {
      "cell_type": "markdown",
      "metadata": {
        "id": "a_NxNlg6lXrs"
      },
      "source": [
        "Pautas para elegir un Dataset para fundamento de ciencia de datos:\n",
        "1. Cantidad de columnas: Más de 15 columnas.\n",
        "Es recomendable elegir un dataset con un número considerable de variables\n",
        "(columnas) para contar con una variedad de características sobre las que se pueda\n",
        "realizar un análisis más completo.\n",
        "\n",
        "2. Cantidad de filas o registros: Aproximadamente 1000 (si es más, mejor).\n",
        "Un dataset con al menos 1000 registros ofrece una base suficiente para realizar\n",
        "análisis significativos y aplicar técnicas estadísticas básicas sin que el procesamiento sea demasiado pesado para quienes están comenzando.\n",
        "\n",
        "Fuente Orginal\n",
        "https://catalog.data.gov/dataset/crime-data-from-2020-to-present"
      ]
    },
    {
      "cell_type": "code",
      "execution_count": null,
      "metadata": {
        "id": "aaC-NM5htE4V"
      },
      "outputs": [],
      "source": [
        "import pandas as pd\n",
        "import numpy as np"
      ]
    },
    {
      "cell_type": "code",
      "execution_count": null,
      "metadata": {
        "id": "BUb6Qbenktyl"
      },
      "outputs": [],
      "source": [
        "# Importamos el csv desde github\n",
        "csv_url = \"https://github.com/yub3r/CoderDataScience/blob/main/Entrega01/Crime_Data_from_2020-5K.csv\"\n"
      ]
    },
    {
      "cell_type": "code",
      "execution_count": null,
      "metadata": {
        "id": "UUKUOvyPtE4W"
      },
      "outputs": [],
      "source": [
        "df_csv = pd.read_csv(csv_url)\n",
        "\n",
        "print(df_csv.head())\n"
      ]
    }
  ],
  "metadata": {
    "colab": {
      "provenance": [],
      "include_colab_link": true
    },
    "kernelspec": {
      "display_name": "Python 3",
      "name": "python3"
    },
    "language_info": {
      "name": "python"
    }
  },
  "nbformat": 4,
  "nbformat_minor": 0
}