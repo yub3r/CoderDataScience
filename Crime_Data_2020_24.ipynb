{
  "cells": [
    {
      "cell_type": "markdown",
      "metadata": {
        "id": "view-in-github",
        "colab_type": "text"
      },
      "source": [
        "<a href=\"https://colab.research.google.com/github/yub3r/CoderDataScience/blob/main/Crime_Data_2020_24.ipynb\" target=\"_parent\"><img src=\"https://colab.research.google.com/assets/colab-badge.svg\" alt=\"Open In Colab\"/></a>"
      ]
    },
    {
      "cell_type": "markdown",
      "metadata": {
        "id": "a_NxNlg6lXrs"
      },
      "source": [
        "Pautas para elegir un Dataset para fundamento de ciencia de datos:\n",
        "1. Cantidad de columnas: Más de 15 columnas.\n",
        "Es recomendable elegir un dataset con un número considerable de variables\n",
        "(columnas) para contar con una variedad de características sobre las que se pueda\n",
        "realizar un análisis más completo.\n",
        "\n",
        "2. Cantidad de filas o registros: Aproximadamente 1000 (si es más, mejor).\n",
        "Un dataset con al menos 1000 registros ofrece una base suficiente para realizar\n",
        "análisis significativos y aplicar técnicas estadísticas básicas sin que el procesamiento sea demasiado pesado para quienes están comenzando.\n",
        "\n",
        "Fuente Orginal\n",
        "https://catalog.data.gov/dataset/crime-data-from-2020-to-present"
      ]
    },
    {
      "cell_type": "code",
      "execution_count": 1,
      "metadata": {
        "id": "aaC-NM5htE4V"
      },
      "outputs": [],
      "source": [
        "import pandas as pd\n",
        "import numpy as np"
      ]
    },
    {
      "cell_type": "code",
      "execution_count": 23,
      "metadata": {
        "id": "BUb6Qbenktyl"
      },
      "outputs": [],
      "source": [
        "# Importamos el csv desde github\n",
        "#csv_url = \"https://github.com/yub3r/CoderDataScience/blob/main/Entrega01/Crime_Data_from_2020-5K.csv\"\n",
        "csv_url = \"https://raw.githubusercontent.com/yub3r/CoderDataScience/refs/heads/main/Crime_Data_from_2020_10K.csv\"\n",
        "\n",
        "# Si el delimitador es un punto y coma, usa `sep=';'`.\n",
        "df_csv = pd.read_csv(csv_url, sep=';', nrows=15)\n"
      ]
    },
    {
      "cell_type": "code",
      "source": [
        "# Aquí se usa el argumento 'on_bad_lines' para saltar las líneas con errores.\n",
        "#df_csv = pd.read_csv(csv_url, on_bad_lines='skip')\n",
        "\n",
        "print(\"\\nDataframe cargado desde CSV y Github/raw:\")\n",
        "print(df_csv)\n"
      ],
      "metadata": {
        "colab": {
          "base_uri": "https://localhost:8080/"
        },
        "id": "DPJyq8tXUTka",
        "outputId": "7e0be332-8db4-4294-c776-9ab5bf447adc"
      },
      "execution_count": 25,
      "outputs": [
        {
          "output_type": "stream",
          "name": "stdout",
          "text": [
            "\n",
            "Dataframe cargado desde CSV y Github/raw:\n",
            "                                      <!DOCTYPE html>\n",
            "0                                               <html\n",
            "1                                           lang=\"en\"\n",
            "2     data-color-mode=\"auto\" data-light-theme=\"lig...\n",
            "3     data-a11y-animated-images=\"system\" data-a11y...\n",
            "4                                                   >\n",
            "5                                              <head>\n",
            "6                              <meta charset=\"utf-8\">\n",
            "7     <link rel=\"dns-prefetch\" href=\"https://githu...\n",
            "8     <link rel=\"dns-prefetch\" href=\"https://avata...\n",
            "9     <link rel=\"dns-prefetch\" href=\"https://githu...\n",
            "10    <link rel=\"dns-prefetch\" href=\"https://user-...\n",
            "11    <link rel=\"preconnect\" href=\"https://github....\n",
            "12    <link rel=\"preconnect\" href=\"https://avatars...\n",
            "13    <link crossorigin=\"anonymous\" media=\"all\" re...\n",
            "14                            <style type=\"text/css\">\n"
          ]
        }
      ]
    }
  ],
  "metadata": {
    "colab": {
      "provenance": [],
      "include_colab_link": true
    },
    "kernelspec": {
      "display_name": "Python 3",
      "name": "python3"
    },
    "language_info": {
      "name": "python"
    }
  },
  "nbformat": 4,
  "nbformat_minor": 0
}