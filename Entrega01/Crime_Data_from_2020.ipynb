{
  "nbformat": 4,
  "nbformat_minor": 0,
  "metadata": {
    "colab": {
      "provenance": []
    },
    "kernelspec": {
      "name": "python3",
      "display_name": "Python 3"
    },
    "language_info": {
      "name": "python"
    }
  },
  "cells": [
    {
      "cell_type": "markdown",
      "source": [
        "Generando el archivo"
      ],
      "metadata": {
        "id": "a_NxNlg6lXrs"
      }
    },
    {
      "cell_type": "code",
      "execution_count": null,
      "metadata": {
        "id": "BUb6Qbenktyl"
      },
      "outputs": [],
      "source": []
    }
  ]
}